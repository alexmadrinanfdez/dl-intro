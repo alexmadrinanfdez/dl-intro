{
 "cells": [
  {
   "cell_type": "markdown",
   "metadata": {},
   "source": [
    "# Deep Learning\n",
    "*Alejandro Madriñán Fernández*"
   ]
  },
  {
   "cell_type": "markdown",
   "metadata": {},
   "source": [
    "![](https://www.etsit.upm.es/fileadmin/documentos/laescuela/la_escuela/galerias_fotograficas/Servicios/generales/logos/LOGO_ESCUELA/LOGO_ESCUELA.png)"
   ]
  },
  {
   "cell_type": "markdown",
   "metadata": {},
   "source": [
    "<!-- # Introduction -->\n",
    "\n",
    "<!-- ## Optimization -->\n",
    "\n",
    "<!-- ## Backpropagation -->\n",
    "\n",
    "<!-- ## Neural Network -->\n",
    "\n",
    "<!-- ## Layered architecture -->\n",
    "\n",
    "<!-- ### *Softmax* layer -->\n",
    "\n",
    "<!-- ## Transfer learning -->"
   ]
  },
  {
   "cell_type": "markdown",
   "metadata": {},
   "source": [
    "<!-- # Feed Forward Neural Networks -->\n",
    "\n",
    "<!-- ## Architecture -->\n",
    "\n",
    "<!-- ## Hyperparameters -->\n",
    "\n",
    "<!-- ## Backpropagation -->"
   ]
  },
  {
   "cell_type": "markdown",
   "metadata": {},
   "source": [
    "<!-- # Convolutional Neural Networks -->\n",
    "\n",
    "<!-- ## Architecture -->\n",
    "\n",
    "<!-- ### Pooling layer -->\n",
    "\n",
    "<!-- ### Flatten layer -->\n",
    "\n",
    "<!-- ## Hyperparameters -->"
   ]
  },
  {
   "cell_type": "markdown",
   "metadata": {},
   "source": [
    "<!-- # Recurrent Neural Networks -->\n",
    "\n",
    "<!-- ## Architecture -->\n",
    "\n",
    "<!-- ## Backpropagation -->\n",
    "\n",
    "<!-- ### Exploding / Vanishing Gradients -->\n",
    "\n",
    "<!-- ## LSTMN -->\n",
    "\n",
    "<!-- ## NLP -->"
   ]
  }
 ],
 "metadata": {
  "kernelspec": {
   "display_name": "Python 3",
   "language": "python",
   "name": "python3"
  },
  "language_info": {
   "codemirror_mode": {
    "name": "ipython",
    "version": 3
   },
   "file_extension": ".py",
   "mimetype": "text/x-python",
   "name": "python",
   "nbconvert_exporter": "python",
   "pygments_lexer": "ipython3",
   "version": "3.8.5"
  }
 },
 "nbformat": 4,
 "nbformat_minor": 4
}
