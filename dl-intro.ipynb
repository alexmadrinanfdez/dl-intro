{
 "cells": [
  {
   "cell_type": "markdown",
   "metadata": {
    "id": "UQv2gotnAZur"
   },
   "source": [
    "<font size = 7> Deep Learning </font>\n",
    "\n",
    "*Alejandro Madriñán Fernández*"
   ]
  },
  {
   "cell_type": "markdown",
   "metadata": {
    "id": "otp6Z8q-AZuz"
   },
   "source": [
    "![](https://www.etsit.upm.es/fileadmin/documentos/laescuela/la_escuela/galerias_fotograficas/Servicios/generales/logos/LOGO_ESCUELA/LOGO_ESCUELA.png)"
   ]
  },
  {
   "cell_type": "markdown",
   "metadata": {
    "id": "HaeyE55mAZu0"
   },
   "source": [
    "<!-- # Introduction -->\n",
    "\n",
    "<!-- ## Optimization -->\n",
    "\n",
    "<!-- ## Backpropagation -->\n",
    "\n",
    "<!-- ## Neural Network -->\n",
    "\n",
    "<!-- ### Neuron -->\n",
    "\n",
    "<!-- #### Activation functions -->\n",
    "\n",
    "<!-- ## Layered architecture -->\n",
    "\n",
    "<!-- ### Deep Hidden Layers -->\n",
    "\n",
    "<!-- ### *Softmax* layer -->\n",
    "\n",
    "<!-- ## Transfer learning -->"
   ]
  },
  {
   "cell_type": "markdown",
   "metadata": {
    "id": "xJFY9sKSAZu0"
   },
   "source": [
    "<!-- # Feed Forward Neural Networks -->\n",
    "\n",
    "<!-- ## Architecture -->\n",
    "\n",
    "<!-- ## Hyperparameters -->\n",
    "\n",
    "<!-- ## Backpropagation -->"
   ]
  },
  {
   "cell_type": "markdown",
   "metadata": {
    "id": "so1Riv0wAZu0"
   },
   "source": [
    "<!-- # Convolutional Neural Networks -->\n",
    "\n",
    "<!-- ## Architecture -->\n",
    "\n",
    "<!-- ### Pooling layer -->\n",
    "\n",
    "<!-- ### Flatten layer -->\n",
    "\n",
    "<!-- ## Hyperparameters -->"
   ]
  },
  {
   "cell_type": "markdown",
   "metadata": {
    "id": "tHSK1HTCAZu1"
   },
   "source": [
    "<!-- # Recurrent Neural Networks -->\n",
    "\n",
    "<!-- ## Architecture -->\n",
    "\n",
    "<!-- ## Backpropagation -->\n",
    "\n",
    "<!-- ### Exploding / Vanishing Gradients -->\n",
    "\n",
    "<!-- ## LSTMN -->\n",
    "\n",
    "<!-- ## NLP -->"
   ]
  }
 ],
 "metadata": {
  "colab": {
   "collapsed_sections": [],
   "name": "dl-intro.ipynb",
   "provenance": []
  },
  "kernelspec": {
   "display_name": "Python 3",
   "language": "python",
   "name": "python3"
  },
  "language_info": {
   "codemirror_mode": {
    "name": "ipython",
    "version": 3
   },
   "file_extension": ".py",
   "mimetype": "text/x-python",
   "name": "python",
   "nbconvert_exporter": "python",
   "pygments_lexer": "ipython3",
   "version": "3.8.5"
  }
 },
 "nbformat": 4,
 "nbformat_minor": 1
}
